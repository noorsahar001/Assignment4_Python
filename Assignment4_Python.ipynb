{
  "nbformat": 4,
  "nbformat_minor": 0,
  "metadata": {
    "colab": {
      "provenance": [],
      "authorship_tag": "ABX9TyOAawQt1gqyxjinCI7aIatJ",
      "include_colab_link": true
    },
    "kernelspec": {
      "name": "python3",
      "display_name": "Python 3"
    },
    "language_info": {
      "name": "python"
    }
  },
  "cells": [
    {
      "cell_type": "markdown",
      "metadata": {
        "id": "view-in-github",
        "colab_type": "text"
      },
      "source": [
        "<a href=\"https://colab.research.google.com/github/noorsahar001/Assignment4_Python/blob/main/Assignment4_Python.ipynb\" target=\"_parent\"><img src=\"https://colab.research.google.com/assets/colab-badge.svg\" alt=\"Open In Colab\"/></a>"
      ]
    },
    {
      "cell_type": "markdown",
      "source": [
        "#**List Methods Practice**"
      ],
      "metadata": {
        "id": "_G--EBkretRw"
      }
    },
    {
      "cell_type": "markdown",
      "source": [
        "#**Tasks:**"
      ],
      "metadata": {
        "id": "gLc5nxEfe44J"
      }
    },
    {
      "cell_type": "markdown",
      "source": [
        "**1. Create and Modify Lists**\n",
        "\n",
        "o Create a list called fruits with the items: \"apple\", \"banana\", \"orange\"\n",
        "\n",
        "\n",
        "o Add \"grape\" to the end of the list using an appropriate method\n",
        "\n",
        "\n",
        "o Insert \"mango\" at position 2 in the list\n",
        "\n",
        "\n",
        "o Remove \"banana\" from the list\n",
        "\n",
        "\n",
        "o Print the final list\n"
      ],
      "metadata": {
        "id": "pN9DSnhwH-n8"
      }
    },
    {
      "cell_type": "code",
      "source": [
        "fruits = [\"apple\", \"banana\", \"orange\"]\n",
        "fruits.append(\"grape\")\n",
        "fruits.insert(2, \"mango\")\n",
        "fruits.remove(\"banana\")\n",
        "print(\"Final list of fruits:\", fruits)"
      ],
      "metadata": {
        "colab": {
          "base_uri": "https://localhost:8080/"
        },
        "id": "M3lOfg_OJVPj",
        "outputId": "774659ac-6710-4c71-a100-f6765e44aab6"
      },
      "execution_count": null,
      "outputs": [
        {
          "output_type": "stream",
          "name": "stdout",
          "text": [
            "Final list of fruits: ['apple', 'mango', 'orange', 'grape']\n"
          ]
        }
      ]
    },
    {
      "cell_type": "markdown",
      "source": [
        "**2. List Operations**\n",
        "\n",
        "\n",
        "o Create a list numbers with values: 10, 20, 30, 40, 50\n",
        "\n",
        "\n",
        "o Create a second list more_numbers with values: 60, 70, 80\n",
        "\n",
        "\n",
        "o Combine both lists into a new list called all_numbers\n",
        "\n",
        "\n",
        "o Make a copy of all_numbers called numbers_copy\n",
        "\n",
        "\n",
        "o Reverse the order of numbers_copy\n",
        "\n",
        "\n",
        "o Print both all_numbers and numbers_copy\n"
      ],
      "metadata": {
        "id": "QAIJahkGKviO"
      }
    },
    {
      "cell_type": "code",
      "source": [
        "numbers = [10, 20, 30, 40, 50]\n",
        "more_numbers = [60, 70, 80]\n",
        "all_numbers = numbers + more_numbers\n",
        "numbers_copy = all_numbers.copy()\n",
        "numbers_copy.reverse()\n",
        "print(\"All Numbers:\", all_numbers)\n",
        "print(\"Reversed Copy:\", numbers_copy)"
      ],
      "metadata": {
        "colab": {
          "base_uri": "https://localhost:8080/"
        },
        "id": "X6OCIoNeK71k",
        "outputId": "321b26fc-050f-4a9e-ac5c-802644e8562f"
      },
      "execution_count": null,
      "outputs": [
        {
          "output_type": "stream",
          "name": "stdout",
          "text": [
            "All Numbers: [10, 20, 30, 40, 50, 60, 70, 80]\n",
            "Reversed Copy: [80, 70, 60, 50, 40, 30, 20, 10]\n"
          ]
        }
      ]
    },
    {
      "cell_type": "markdown",
      "source": [
        "**3. Sorting and Counting**\n",
        "\n",
        "\n",
        "o Create a list scores with these values: 85, 92, 78, 65, 92, 85, 74\n",
        "\n",
        "\n",
        "o Sort the list in ascending order\n",
        "\n",
        "\n",
        "o Sort the list in descending order\n",
        "\n",
        "o Count how many times 92 appears in the list\n",
        "\n",
        "\n",
        "o Find and print the highest and lowest scores\n",
        "\n",
        "\n",
        "o Print the sorted list\n"
      ],
      "metadata": {
        "id": "Y_WklA0CMoVS"
      }
    },
    {
      "cell_type": "code",
      "source": [
        "scores = [85, 92, 78, 65, 92, 85, 74]\n",
        "scores_ascending = sorted(scores)\n",
        "scores_descending = sorted(scores, reverse=True)\n",
        "count_92 = scores.count(92)\n",
        "highest_score = max(scores)\n",
        "lowest_score = min(scores)\n",
        "print(\"Original Scores:\", scores)\n",
        "print(\"Sorted (Ascending):\", scores_ascending)\n",
        "print(\"Sorted (Descending):\", scores_descending)\n",
        "print(\"Count of 92:\", count_92)\n",
        "print(\"Highest Score:\", highest_score)\n",
        "print(\"Lowest Score:\", lowest_score)"
      ],
      "metadata": {
        "colab": {
          "base_uri": "https://localhost:8080/"
        },
        "id": "VonrYZTBM3Vp",
        "outputId": "3f18abc6-f642-42a9-ca16-301aab7e0696"
      },
      "execution_count": null,
      "outputs": [
        {
          "output_type": "stream",
          "name": "stdout",
          "text": [
            "Original Scores: [85, 92, 78, 65, 92, 85, 74]\n",
            "Sorted (Ascending): [65, 74, 78, 85, 85, 92, 92]\n",
            "Sorted (Descending): [92, 92, 85, 85, 78, 74, 65]\n",
            "Count of 92: 2\n",
            "Highest Score: 92\n",
            "Lowest Score: 65\n"
          ]
        }
      ]
    },
    {
      "cell_type": "markdown",
      "source": [
        "**4. List Manipulation**\n",
        "\n",
        "\n",
        "o Create a list letters with values: \"a\", \"b\", \"c\", \"d\", \"e\"\n",
        "\n",
        "\n",
        "o Use slicing to create a new list with only the first three letters\n",
        "\n",
        "\n",
        "o Use slicing to create another list with only the last two letters\n",
        "\n",
        "\n",
        "o Find and print the index of \"c\" in the list\n",
        "\n",
        "\n",
        "o Replace \"d\" with \"z\" in the original list\n",
        "\n",
        "\n",
        "o Print the modified list\n"
      ],
      "metadata": {
        "id": "lPDBC2GVUgiv"
      }
    },
    {
      "cell_type": "code",
      "source": [
        "letters = [\"a\", \"b\", \"c\", \"d\", \"e\"]\n",
        "first_three = letters[:3]\n",
        "last_two = letters[-2:]\n",
        "index_of_c = letters.index(\"c\")\n",
        "letters[letters.index(\"d\")] = \"z\"\n",
        "print(\"Original List (Modified):\", letters)\n",
        "print(\"First Three Letters:\", first_three)\n",
        "print(\"Last Two Letters:\", last_two)\n",
        "print(\"Index of 'c':\", index_of_c)"
      ],
      "metadata": {
        "colab": {
          "base_uri": "https://localhost:8080/"
        },
        "id": "_CITE4F0UsRb",
        "outputId": "28d63493-7813-4c81-b07f-0b4b11383bcf"
      },
      "execution_count": null,
      "outputs": [
        {
          "output_type": "stream",
          "name": "stdout",
          "text": [
            "Original List (Modified): ['a', 'b', 'c', 'z', 'e']\n",
            "First Three Letters: ['a', 'b', 'c']\n",
            "Last Two Letters: ['d', 'e']\n",
            "Index of 'c': 2\n"
          ]
        }
      ]
    },
    {
      "cell_type": "markdown",
      "source": [
        "#**Dictionary Methods Practice**"
      ],
      "metadata": {
        "id": "DWp6chxnXEEw"
      }
    },
    {
      "cell_type": "markdown",
      "source": [
        "#**Tasks:**"
      ],
      "metadata": {
        "id": "SjPtQlBVXQEC"
      }
    },
    {
      "cell_type": "markdown",
      "source": [
        "**1. Create and Access Dictionaries**\n"
      ],
      "metadata": {
        "id": "Gd4FFmP0XmXm"
      }
    },
    {
      "cell_type": "markdown",
      "source": [
        "o Create a dictionary called student with these key-value pairs:\n",
        "\n",
        " \"name\": \"John\"\n",
        "\n",
        " \"age\": 20\n",
        "\n",
        " \"grade\": \"A\"\n",
        "\n",
        " \"courses\": [\"Math\", \"Science\", \"History\"]\n",
        "\n",
        "o Print the student's name\n",
        "\n",
        "\n",
        "o Print the list of courses\n",
        "\n",
        "o Add a new key-value pair: \"email\": \"john@example.com\"\n",
        "\n",
        "o Print the entire dictionary"
      ],
      "metadata": {
        "id": "7rfW4drdXwYT"
      }
    },
    {
      "cell_type": "code",
      "source": [
        "student = {\n",
        "    \"name\": \"John\",\n",
        "    \"age\": 20,\n",
        "    \"grade\": \"A\",\n",
        "    \"courses\": [\"Math\", \"Science\", \"History\"]\n",
        "    }\n",
        "print(\"Student_name:\", student[\"name\"])\n",
        "print(\"Courses:\", student[\"courses\"])\n",
        "student[\"email\"] = \"john@example.com\"\n",
        "print(\"Complete Student Dictionary:\", student)"
      ],
      "metadata": {
        "colab": {
          "base_uri": "https://localhost:8080/"
        },
        "id": "ptG4uQQzYVoJ",
        "outputId": "6bb16dc0-53db-4558-9e4e-22e43a8b3ee7"
      },
      "execution_count": null,
      "outputs": [
        {
          "output_type": "stream",
          "name": "stdout",
          "text": [
            "Student_name: John\n",
            "Courses: ['Math', 'Science', 'History']\n",
            "Complete Student Dictionary: {'name': 'John', 'age': 20, 'grade': 'A', 'courses': ['Math', 'Science', 'History'], 'email': 'john@example.com'}\n"
          ]
        }
      ]
    },
    {
      "cell_type": "markdown",
      "source": [
        "**2. Modify Dictionary Values**\n",
        "\n",
        "o Change the student's age to 21\n",
        "\n",
        "o Add a new course \"Computer Science\" to the courses list\n",
        "\n",
        "o Update the grade to \"A+\"\n",
        "\n",
        "o Print the modified dictionary"
      ],
      "metadata": {
        "id": "Eiv2rqHvbPGp"
      }
    },
    {
      "cell_type": "code",
      "source": [
        "student[\"age\"] = 21\n",
        "student[\"courses\"].append(\"Computer Science\")\n",
        "student[\"grade\"] = \"A+\"\n",
        "print(\"Modified Student Dictionary:\", student)"
      ],
      "metadata": {
        "colab": {
          "base_uri": "https://localhost:8080/"
        },
        "id": "g_pDEoBZbtly",
        "outputId": "18fdc71a-d3c5-4527-e8c5-cc1dcd9705aa"
      },
      "execution_count": null,
      "outputs": [
        {
          "output_type": "stream",
          "name": "stdout",
          "text": [
            "Modified Student Dictionary: {'name': 'John', 'age': 21, 'grade': 'A+', 'courses': ['Math', 'Science', 'History', 'Computer Science', 'Computer Science'], 'email': 'john@example.com'}\n"
          ]
        }
      ]
    },
    {
      "cell_type": "markdown",
      "source": [
        "**3. Dictionary Operations**\n",
        "\n",
        "o Create a second dictionary student_address with these key-value pairs:\n",
        "\n",
        " \"street\": \"123 College Ave\"\n",
        "\n",
        " \"city\": \"New York\"\n",
        "\n",
        " \"zip\": \"10001\"\n",
        "\n",
        "o Combine both dictionaries into a new dictionary called student_info\n",
        "\n",
        "o Remove the \"zip\" key from student_info\n",
        "\n",
        "o Check if \"phone\" exists in the dictionary\n",
        "\n",
        "o Print the final dictionary"
      ],
      "metadata": {
        "id": "36aWktdLeRLI"
      }
    },
    {
      "cell_type": "code",
      "source": [
        "student_address = {\n",
        "    \"Street\": \"123 College Ave\",\n",
        "    \"City\": \"New York\",\n",
        "    \"Zip\": \"10001\"\n",
        "}\n",
        "student_info = student.copy()\n",
        "student_info.update(student_address)\n",
        "student_info.pop(\"Zip\")\n",
        "phone_exists = \"phone\" in student_info\n",
        "print(\"Final Student Info Dictionary:\", student_info)\n",
        "print(\"Does 'phone' exist in the dictionary?\", phone_exists)"
      ],
      "metadata": {
        "colab": {
          "base_uri": "https://localhost:8080/"
        },
        "id": "qJkh0z-oenkp",
        "outputId": "c90380be-1b7f-4112-96df-6522f5d870ec"
      },
      "execution_count": null,
      "outputs": [
        {
          "output_type": "stream",
          "name": "stdout",
          "text": [
            "Final Student Info Dictionary: {'name': 'John', 'age': 21, 'grade': 'A+', 'courses': ['Math', 'Science', 'History', 'Computer Science', 'Computer Science'], 'email': 'john@example.com', 'Street': '123 College Ave', 'City': 'New York'}\n",
            "Does 'phone' exist in the dictionary? False\n"
          ]
        }
      ]
    },
    {
      "cell_type": "markdown",
      "source": [
        "**4. Dictionary Methods**\n",
        "\n",
        "o Create a dictionary word_count with these key-value pairs:\n",
        "\n",
        " \"hello\": 5\n",
        "\n",
        " \"world\": 10\n",
        "\n",
        " \"python\": 15\n",
        "\n",
        "o Get all keys and print them as a list\n",
        "\n",
        "o Get all values and print them as a list\n",
        "\n",
        "o Get all key-value pairs and print them\n",
        "\n",
        "o Make a copy of the dictionary\n",
        "\n",
        "o Clear the original dictionary\n",
        "\n",
        "o Print both dictionaries to verify one is empty and one is a copy"
      ],
      "metadata": {
        "id": "N8LuvrGxi7Yi"
      }
    },
    {
      "cell_type": "code",
      "source": [
        "word_count = {\n",
        "    \"hello\": 5,\n",
        "    \"world\": 10,\n",
        "    \"python\": 15\n",
        "}\n",
        "keys_list = list(word_count.keys())\n",
        "print(\"Keys:\", keys_list)\n",
        "values_list = list(word_count.values())\n",
        "print(\"Values:\", values_list)\n",
        "items_list = list(word_count.items())\n",
        "print(\"Key-Value Pairs:\", items_list)\n",
        "word_count_copy = word_count.copy()\n",
        "word_count.clear()\n",
        "print(\"Original Dictionary after clear():\", word_count)\n",
        "print(\"Copied Dictionary:\", word_count_copy)"
      ],
      "metadata": {
        "colab": {
          "base_uri": "https://localhost:8080/"
        },
        "id": "bAdBtcNDjSls",
        "outputId": "0065384b-b803-4e7c-c790-573be2760fb1"
      },
      "execution_count": null,
      "outputs": [
        {
          "output_type": "stream",
          "name": "stdout",
          "text": [
            "Keys: ['hello', 'world', 'python']\n",
            "Values: [5, 10, 15]\n",
            "Key-Value Pairs: [('hello', 5), ('world', 10), ('python', 15)]\n",
            "Original Dictionary after clear(): {}\n",
            "Copied Dictionary: {'hello': 5, 'world': 10, 'python': 15}\n"
          ]
        }
      ]
    },
    {
      "cell_type": "markdown",
      "source": [
        "#**Shopping Discount Calculator**"
      ],
      "metadata": {
        "id": "-MLZdR1zkiF7"
      }
    },
    {
      "cell_type": "markdown",
      "source": [
        "#**Tasks**"
      ],
      "metadata": {
        "id": "vLV0N891kxCt"
      }
    },
    {
      "cell_type": "markdown",
      "source": [
        "**1. Set up the initial variables:**\n",
        "\n",
        "o purchase_amount: The total cost of items in the shopping cart\n",
        "\n",
        "o is_loyalty_member: Boolean (True/False) indicating if the customer is a loyalty member\n",
        "\n",
        "o day_of_week: A string with the current day (e.g., \"Monday\", \"Tuesday\", etc.)\n",
        "\n",
        "o is_holiday_season: Boolean indicating if it's currently a holiday shopping\n",
        "season\n"
      ],
      "metadata": {
        "id": "pAFFyybllHug"
      }
    },
    {
      "cell_type": "code",
      "source": [
        "purchase_amount = 150.00\n",
        "is_loyalty_member = True\n",
        "day_of_week = \"Tuesday\"\n",
        "is_holiday_season = False\n",
        "print(\"Purchase Amount:\", purchase_amount)\n",
        "print(\"Loyalty Member:\", is_loyalty_member)\n",
        "print(\"Day of Week:\", day_of_week)\n",
        "print(\"Holiday Season:\", is_holiday_season)"
      ],
      "metadata": {
        "colab": {
          "base_uri": "https://localhost:8080/"
        },
        "id": "DKj-ZAOkmmiy",
        "outputId": "43ee069f-7c74-4752-ffb5-1bb8cf94200f"
      },
      "execution_count": null,
      "outputs": [
        {
          "output_type": "stream",
          "name": "stdout",
          "text": [
            "Purchase Amount: 150.0\n",
            "Loyalty Member: True\n",
            "Day of Week: Tuesday\n",
            "Holiday Season: False\n"
          ]
        }
      ]
    },
    {
      "cell_type": "markdown",
      "source": [
        "**2. Apply discount rules using if statements:**\n",
        "\n",
        "o If purchase amount is greater than $100, apply a 10% discount\n",
        "\n",
        "o If purchase amount is greater than $50 (but less than or  \n",
        "equal to $100), apply a 5% discount\n",
        "\n",
        "o If the customer is a loyalty member, apply an additional 5% discount\n",
        "\n",
        "o If it's a weekend (Saturday or Sunday), apply an additional 2% discount\n",
        "\n",
        "o If it's a holiday season, apply an additional 8% discount\n"
      ],
      "metadata": {
        "id": "s1wgpXNhnOZA"
      }
    },
    {
      "cell_type": "code",
      "source": [
        "purchase_amount = 150.00\n",
        "is_loyalty_member = True\n",
        "day_of_week = \"Tuesday\"\n",
        "is_holiday_season = False\n",
        "# Initialize discount\n",
        "discount = 0\n",
        "if purchase_amount > 100:\n",
        "    discount += 10  # 10% discount\n",
        "elif purchase_amount > 50:\n",
        "    discount += 5  # 5% discount\n",
        "# Additional discounts\n",
        "if is_loyalty_member:\n",
        "    discount += 5  # Loyalty member discount\n",
        "if day_of_week in [\"Saturday\", \"Sunday\"]:\n",
        "    discount += 2  # Weekend discount\n",
        "if is_holiday_season:\n",
        "    discount += 8  # Holiday season discount\n",
        "# Calculate final price after discount\n",
        "discount_amount = (discount / 100) * purchase_amount\n",
        "final_price = purchase_amount - discount_amount\n",
        "\n",
        "print(\"Total Discount Percentage:\", discount, \"%\")\n",
        "print(\"Discount Amount: $\", round(discount_amount, 2))\n",
        "print(\"Final Price After Discount: $\", round(final_price, 2))"
      ],
      "metadata": {
        "colab": {
          "base_uri": "https://localhost:8080/"
        },
        "id": "nftHnFTPoWph",
        "outputId": "9a0c9590-0d9c-492a-cdd5-3486deea98ce"
      },
      "execution_count": null,
      "outputs": [
        {
          "output_type": "stream",
          "name": "stdout",
          "text": [
            "Total Discount Percentage: 15 %\n",
            "Discount Amount: $ 22.5\n",
            "Final Price After Discount: $ 127.5\n"
          ]
        }
      ]
    },
    {
      "cell_type": "markdown",
      "source": [
        "**3. Calculate and display:**\n",
        "\n",
        "o The original purchase amount\n",
        "\n",
        "o Each discount that was applied and its amount\n",
        "\n",
        "o The final price after all discounts\n"
      ],
      "metadata": {
        "id": "xKrck1WWp8E9"
      }
    },
    {
      "cell_type": "code",
      "source": [
        "# Variables\n",
        "purchase_amount = 150.00\n",
        "is_loyalty_member = True\n",
        "day_of_week = \"Tuesday\"\n",
        "is_holiday_season = False\n",
        "# Initialize discounts\n",
        "discounts = []\n",
        "# Base discount\n",
        "if purchase_amount > 100:\n",
        "    discounts.append((\"Base Discount (10%)\", 10))\n",
        "elif purchase_amount > 50:\n",
        "    discounts.append((\"Base Discount (5%)\", 5))\n",
        "# Loyalty member discount\n",
        "if is_loyalty_member:\n",
        "    discounts.append((\"Loyalty Discount (5%)\", 5))\n",
        "# Weekend discount\n",
        "if day_of_week in [\"Saturday\", \"Sunday\"]:\n",
        "    discounts.append((\"Weekend Discount (2%)\", 2))\n",
        "# Holiday season discount\n",
        "if is_holiday_season:\n",
        "    discounts.append((\"Holiday Discount (8%)\", 8))\n",
        "# Display original amount\n",
        "print(f\"Original Purchase Amount: ${purchase_amount:.2f}\")\n",
        "# Apply and display each discount\n",
        "total_discount_amount = 0\n",
        "for label, percent in discounts:\n",
        "    amount = (percent / 100) * purchase_amount\n",
        "    total_discount_amount += amount\n",
        "    print(f\"{label}: -${amount:.2f}\")\n",
        "# Final price\n",
        "final_price = purchase_amount - total_discount_amount\n",
        "print(f\"\\nTotal Discount Amount: -${total_discount_amount:.2f}\")\n",
        "print(f\"Final Price After All Discounts: ${final_price:.2f}\")"
      ],
      "metadata": {
        "colab": {
          "base_uri": "https://localhost:8080/"
        },
        "id": "H57bPVGMqN-j",
        "outputId": "0bd195f9-593f-4cf6-fabb-047f09f389e4"
      },
      "execution_count": null,
      "outputs": [
        {
          "output_type": "stream",
          "name": "stdout",
          "text": [
            "Original Purchase Amount: $150.00\n",
            "Base Discount (10%): -$15.00\n",
            "Loyalty Discount (5%): -$7.50\n",
            "\n",
            "Total Discount Amount: -$22.50\n",
            "Final Price After All Discounts: $127.50\n"
          ]
        }
      ]
    },
    {
      "cell_type": "markdown",
      "source": [
        "#**For Loop Assignment - Number Patterns**\n"
      ],
      "metadata": {
        "id": "U9TVaN9PtIqL"
      }
    },
    {
      "cell_type": "markdown",
      "source": [
        "**Pattern 1: Counting Numbers**\n",
        "\n",
        "o Print numbers from 1 to 10 on a single line.\n",
        "\n"
      ],
      "metadata": {
        "id": "Xdy6hKzrtUHi"
      }
    },
    {
      "cell_type": "code",
      "source": [
        "print(\"Pattern 1: Counting Numbers\")\n",
        "for i in range(1,11):\n",
        "  print(i, end=\" \")\n",
        "print()"
      ],
      "metadata": {
        "colab": {
          "base_uri": "https://localhost:8080/"
        },
        "id": "HpY78_VJuVQ6",
        "outputId": "afffc09c-0ad8-43fa-e1d3-8feb80d724f3"
      },
      "execution_count": null,
      "outputs": [
        {
          "output_type": "stream",
          "name": "stdout",
          "text": [
            "Pattern 1: Counting Numbers\n",
            "1 2 3 4 5 6 7 8 9 10 \n"
          ]
        }
      ]
    },
    {
      "cell_type": "markdown",
      "source": [
        "**Pattern 2: Multiplication Table**\n",
        "\n",
        "o Create a multiplication table for the number 5 (from 1 to 10)."
      ],
      "metadata": {
        "id": "LFzOoFPRvEsK"
      }
    },
    {
      "cell_type": "code",
      "source": [
        "print(\"Pattern 2: Multiplication Table of 5\")\n",
        "for i in range(1,11):\n",
        "  print(f\"5 * {i} = {5 * i}\")"
      ],
      "metadata": {
        "colab": {
          "base_uri": "https://localhost:8080/"
        },
        "id": "QcRxdVt8vafZ",
        "outputId": "4943e995-ca81-4b0b-c2ba-c252854e6fea"
      },
      "execution_count": null,
      "outputs": [
        {
          "output_type": "stream",
          "name": "stdout",
          "text": [
            "Pattern 2: Multiplication Table of 5\n",
            "5 * 1 = 5\n",
            "5 * 2 = 10\n",
            "5 * 3 = 15\n",
            "5 * 4 = 20\n",
            "5 * 5 = 25\n",
            "5 * 6 = 30\n",
            "5 * 7 = 35\n",
            "5 * 8 = 40\n",
            "5 * 9 = 45\n",
            "5 * 10 = 50\n"
          ]
        }
      ]
    },
    {
      "cell_type": "markdown",
      "source": [
        "#**While Loop Assignment - Interactive Game**\n"
      ],
      "metadata": {
        "id": "wMwDJcczwVgN"
      }
    },
    {
      "cell_type": "markdown",
      "source": [
        "Write a Python program that:\n",
        "1. Sets a \"secret number\" (you can choose any number between 1 and 50)\n",
        "2. Asks the player to guess the number\n",
        "3. Tells the player if their guess is too high or too low\n",
        "4. Keeps asking until the player guesses correctly\n",
        "5. Keeps track of how many guesses it took"
      ],
      "metadata": {
        "id": "6cC5abkawlju"
      }
    },
    {
      "cell_type": "code",
      "source": [
        "secret_number = 42\n",
        "guess_count = 0\n",
        "print(\"Welcome to number guessing game!\")\n",
        "print(\"Guess the secret number between 1 and 50\")\n",
        "#start guessing\n",
        "while True:\n",
        "    guess = int(input(\"Enter your guess: \"))\n",
        "    guess_count += 1\n",
        "\n",
        "    if guess < secret_number:\n",
        "        print(\"Too low! Try again.\")\n",
        "    elif guess > secret_number:\n",
        "        print(\"Too high! Try again.\")\n",
        "    else:\n",
        "        print(f\"Congratulations! You guessed it right in {guess_count} tries.\")\n",
        "        break"
      ],
      "metadata": {
        "colab": {
          "base_uri": "https://localhost:8080/"
        },
        "id": "uLPDw38eylZ2",
        "outputId": "aa68e0ab-2ad7-4adf-bde9-3c929af3b969"
      },
      "execution_count": null,
      "outputs": [
        {
          "output_type": "stream",
          "name": "stdout",
          "text": [
            "Welcome to number guessing game!\n",
            "Guess the secret number between 1 and 50\n",
            "Enter your guess: 56\n",
            "Too high! Try again.\n",
            "Enter your guess: 28\n",
            "Too low! Try again.\n",
            "Enter your guess: 40\n",
            "Too low! Try again.\n",
            "Enter your guess: 50\n",
            "Too high! Try again.\n",
            "Enter your guess: 45\n",
            "Too high! Try again.\n",
            "Enter your guess: 42\n",
            "Congratulations! You guessed it right in 6 tries.\n"
          ]
        }
      ]
    },
    {
      "cell_type": "markdown",
      "source": [
        "#**Student Grade Management System**\n"
      ],
      "metadata": {
        "id": "HvPfXWtCzraw"
      }
    },
    {
      "cell_type": "markdown",
      "source": [
        "#**Requirements:**"
      ],
      "metadata": {
        "id": "ZCNSy50HzzAa"
      }
    },
    {
      "cell_type": "markdown",
      "source": [
        "1. Create a list to store information about students"
      ],
      "metadata": {
        "id": "y_64lDHB31MR"
      }
    },
    {
      "cell_type": "code",
      "source": [
        "students = []"
      ],
      "metadata": {
        "id": "YUMhvf5C3NPa"
      },
      "execution_count": null,
      "outputs": []
    },
    {
      "cell_type": "markdown",
      "source": [
        "2. Each student should be represented as a dictionary with the following keys:\n",
        "\n",
        "o name: The student's full name\n",
        "\n",
        "o id: A unique student ID number\n",
        "\n",
        "o grades: Another dictionary containing course names as keys and grades as values"
      ],
      "metadata": {
        "id": "K-NsQQQE3-If"
      }
    },
    {
      "cell_type": "code",
      "source": [
        "students.append({\n",
        "    \"name\": \"Sadiya Khan\",\n",
        "    \"id\": 101,\n",
        "    \"grades\": {\n",
        "        \"Math\": 85,\n",
        "        \"Science\": 90,\n",
        "        \"English\": 78\n",
        "    }\n",
        "})\n",
        "students.append({\n",
        "    \"name\": \"Ali Ahmed\",\n",
        "    \"id\": 102,\n",
        "    \"grades\": {\n",
        "        \"Math\": 92,\n",
        "        \"Science\": 88,\n",
        "        \"English\": 95\n",
        "    }\n",
        "})\n",
        "students.append({\n",
        "    \"name\": \"Sajjid Hussain\",\n",
        "    \"id\": 103,\n",
        "    \"grades\": {\n",
        "        \"Math\": 70,\n",
        "        \"Science\": 65,\n",
        "        \"English\": 80\n",
        "    }\n",
        "})"
      ],
      "metadata": {
        "id": "ssrGfaLy4TmX"
      },
      "execution_count": null,
      "outputs": []
    },
    {
      "cell_type": "markdown",
      "source": [
        "3. Your program should:\n",
        "\n",
        "o Add at least 3 students to the list\n",
        "\n",
        "o Add grades for at least 3 courses for each student\n",
        "\n",
        "o Display all students with their grades\n",
        "\n",
        "o Calculate and display the average grade for each student\n",
        "\n",
        "o Find and display the student with the highest average grade\n",
        "\n",
        "o List all students with an average grade above 80\n",
        "\n",
        "o Calculate and display the average grade for a specific course\n",
        "\n",
        "o Add a new student to the system"
      ],
      "metadata": {
        "id": "OEv64r1741Jj"
      }
    },
    {
      "cell_type": "code",
      "source": [
        "#create a list\n",
        "students = []\n",
        "\n",
        "#add students with name, id, and grades\n",
        "students.append({\n",
        "    \"name\": \"Sadiay Khan\",\n",
        "    \"id\": 101,\n",
        "    \"grades\": {\n",
        "        \"Math\": 85,\n",
        "        \"Science\": 90,\n",
        "        \"English\": 78\n",
        "    }\n",
        "})\n",
        "\n",
        "students.append({\n",
        "    \"name\": \"Ali Ahmed\",\n",
        "    \"id\": 102,\n",
        "    \"grades\": {\n",
        "        \"Math\": 92,\n",
        "        \"Science\": 88,\n",
        "        \"English\": 95\n",
        "    }\n",
        "})\n",
        "\n",
        "students.append({\n",
        "    \"name\": \"Sajid Hussain\",\n",
        "    \"id\": 103,\n",
        "    \"grades\": {\n",
        "        \"Math\": 70,\n",
        "        \"Science\": 65,\n",
        "        \"English\": 80\n",
        "    }\n",
        "})\n",
        "\n",
        "#display all students with grades\n",
        "print(\"\\n All Students and Their Grades:\")\n",
        "for student in students:\n",
        "    print(f\"\\nName: {student['name']}, ID: {student['id']}\")\n",
        "    for course, grade in student[\"grades\"].items():\n",
        "        print(f\"  {course}: {grade}\")\n",
        "\n",
        "#average grade for each student\n",
        "print(\"\\n Average Grade for Each Student:\")\n",
        "for student in students:\n",
        "    grades = student[\"grades\"].values()\n",
        "    average = sum(grades) / len(grades)\n",
        "    student[\"average\"] = average  # Store average for later use\n",
        "    print(f\"{student['name']} - Average: {average:.2f}\")\n",
        "\n",
        "#student with the highest average grade\n",
        "top_student = max(students, key=lambda x: x[\"average\"])\n",
        "print(f\"\\n Student with Highest Average Grade: {top_student['name']} ({top_student['average']:.2f})\")\n",
        "\n",
        "#average grade above 80\n",
        "print(\"\\n Students with Average Grade Above 80:\")\n",
        "for student in students:\n",
        "    if student[\"average\"] > 80:\n",
        "        print(f\"{student['name']} - Average: {student['average']:.2f}\")\n",
        "\n",
        "#average grade for a specific course\n",
        "course_name = \"Math\"\n",
        "total = 0\n",
        "count = 0\n",
        "for student in students:\n",
        "    if course_name in student[\"grades\"]:\n",
        "        total += student[\"grades\"][course_name]\n",
        "        count += 1\n",
        "\n",
        "if count > 0:\n",
        "    course_avg = total / count\n",
        "    print(f\"\\n Average Grade in {course_name}: {course_avg:.2f}\")\n",
        "else:\n",
        "    print(f\"\\nCourse '{course_name}' not found.\")\n",
        "\n",
        "#Add a new student\n",
        "new_student = {\n",
        "    \"name\": \"Sara Farooq\",\n",
        "    \"id\": 104,\n",
        "    \"grades\": {\n",
        "        \"Math\": 88,\n",
        "        \"Science\": 91,\n",
        "        \"English\": 85\n",
        "    }\n",
        "}\n",
        "students.append(new_student)\n",
        "print(f\"\\n New Student Added: {new_student['name']} (ID: {new_student['id']})\")\n"
      ],
      "metadata": {
        "colab": {
          "base_uri": "https://localhost:8080/"
        },
        "id": "fQHzgS2w4-ns",
        "outputId": "6022a4e3-47c6-4aad-aa33-9edf0b127f6c"
      },
      "execution_count": null,
      "outputs": [
        {
          "output_type": "stream",
          "name": "stdout",
          "text": [
            "\n",
            " All Students and Their Grades:\n",
            "\n",
            "Name: Sadiay Khan, ID: 101\n",
            "  Math: 85\n",
            "  Science: 90\n",
            "  English: 78\n",
            "\n",
            "Name: Ali Ahmed, ID: 102\n",
            "  Math: 92\n",
            "  Science: 88\n",
            "  English: 95\n",
            "\n",
            "Name: Sajid Hussain, ID: 103\n",
            "  Math: 70\n",
            "  Science: 65\n",
            "  English: 80\n",
            "\n",
            " Average Grade for Each Student:\n",
            "Sadiay Khan - Average: 84.33\n",
            "Ali Ahmed - Average: 91.67\n",
            "Sajid Hussain - Average: 71.67\n",
            "\n",
            " Student with Highest Average Grade: Ali Ahmed (91.67)\n",
            "\n",
            " Students with Average Grade Above 80:\n",
            "Sadiay Khan - Average: 84.33\n",
            "Ali Ahmed - Average: 91.67\n",
            "\n",
            " Average Grade in Math: 82.33\n",
            "\n",
            " New Student Added: Sara Farooq (ID: 104)\n"
          ]
        }
      ]
    }
  ]
}